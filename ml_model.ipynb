{
 "cells": [
  {
   "cell_type": "markdown",
   "id": "bcd0ef57",
   "metadata": {},
   "source": [
    "*machine learning algorithm for conversation*"
   ]
  },
  {
   "cell_type": "code",
   "execution_count": 1,
   "id": "c2440475",
   "metadata": {},
   "outputs": [],
   "source": [
    "import tensorflow as tf\n",
    "import pickle\n",
    "import json\n",
    "import re\n",
    "\n",
    "\n",
    "# imoport the spaCy nlp model\n",
    "import spacy\n",
    "nlp = spacy.load('en_core_web_sm')"
   ]
  },
  {
   "cell_type": "markdown",
   "id": "9f8319e9",
   "metadata": {},
   "source": [
    "The json containing the training data is loaded here - this file is not mine but I will eventually write my own data as this file doesn't fit my needs."
   ]
  },
  {
   "cell_type": "code",
   "execution_count": 2,
   "id": "655b0ce9",
   "metadata": {},
   "outputs": [],
   "source": [
    "with open('intents.json') as f:\n",
    "    intents = json.load(f)"
   ]
  },
  {
   "cell_type": "markdown",
   "id": "042acd04",
   "metadata": {},
   "source": [
    "Raw data is to be cleansed and tokenised"
   ]
  },
  {
   "cell_type": "code",
   "execution_count": 3,
   "id": "4b630abb",
   "metadata": {},
   "outputs": [],
   "source": [
    "def clean_str(txt):\n",
    "    txt = txt.lower()\n",
    "    txt = re.sub(r'[^a-zA-z.?!\\']', ' ', txt)\n",
    "    txt = re.sub(r'[ ]+', ' ', txt)\n",
    "    \n",
    "    specials = ['.', '!', '?']\n",
    "    for s in specials:\n",
    "        txt = txt.replace(s, f' {s} ')\n",
    "    \n",
    "    return txt\n",
    "\n",
    "def tokenise_data(input_list):\n",
    "    tokenizer = tf.keras.preprocessing.text.Tokenizer(filters='', oov_token='<unk>')\n",
    "    tokenizer.fit_on_texts(input_list)\n",
    "    \n",
    "    input_seq = tokenizer.texts_to_sequences(input_list)\n",
    "    input_seq = tf.keras.preprocessing.sequence.pad_sequences(input_seq)\n",
    "    \n",
    "    return tokenizer, input_seq"
   ]
  },
  {
   "cell_type": "markdown",
   "id": "e7e08173",
   "metadata": {},
   "source": [
    "Information is extracted from the json file"
   ]
  },
  {
   "cell_type": "code",
   "execution_count": 4,
   "id": "ff3d5bff",
   "metadata": {},
   "outputs": [],
   "source": [
    "inputs, targets = [], []   # all inputs, corresponding intent by position in list\n",
    "classes = []               # complete set of intents\n",
    "intent_doc = {}            # intent: list[outputs]\n",
    "\n",
    "for intent in intents['intents']:\n",
    "    if intent['intent'] not in classes:\n",
    "        classes.append(intent['intent'])\n",
    "    if intent['intent'] not in intent_doc:\n",
    "        intent_doc[intent['intent']] = []\n",
    "        \n",
    "    for text in intent['text']:\n",
    "        inputs.append(clean_str(text))\n",
    "        targets.append(intent['intent'])\n",
    "        \n",
    "    for response in intent['responses']:\n",
    "        intent_doc[intent['intent']].append(response)\n",
    "        \n",
    "# tokenise input data\n",
    "tokenizer, input_tensor = tokenise_data(inputs)"
   ]
  },
  {
   "cell_type": "markdown",
   "id": "2009d598",
   "metadata": {},
   "source": [
    "Construct a tokeniser dictionary"
   ]
  },
  {
   "cell_type": "code",
   "execution_count": 5,
   "id": "aa34d826",
   "metadata": {},
   "outputs": [],
   "source": [
    "def create_categorical_target(targets):\n",
    "    word={}\n",
    "    categorical_target=[]\n",
    "    counter=0\n",
    "    for trg in targets:\n",
    "        if trg not in word:\n",
    "            word[trg]=counter\n",
    "            counter+=1\n",
    "        categorical_target.append(word[trg])\n",
    "    \n",
    "    categorical_tensor = tf.keras.utils.to_categorical(categorical_target, num_classes=len(word), dtype='int32')\n",
    "    return categorical_tensor, dict((v,k) for k, v in word.items())\n",
    "\n",
    "# preprocess output data\n",
    "target_tensor, trg_index_word = create_categorical_target(targets)"
   ]
  },
  {
   "cell_type": "markdown",
   "id": "944796f9",
   "metadata": {},
   "source": [
    "Define constants to be used by the ml model"
   ]
  },
  {
   "cell_type": "code",
   "execution_count": 6,
   "id": "49f226c2",
   "metadata": {},
   "outputs": [],
   "source": [
    "epochs=50\n",
    "vocab_size=len(tokenizer.word_index) + 1\n",
    "embed_dim=512\n",
    "units=128\n",
    "target_length=target_tensor.shape[1]"
   ]
  },
  {
   "cell_type": "markdown",
   "id": "de733a83",
   "metadata": {},
   "source": [
    "Build RNN model"
   ]
  },
  {
   "cell_type": "code",
   "execution_count": 7,
   "id": "2646cea6",
   "metadata": {},
   "outputs": [
    {
     "name": "stdout",
     "output_type": "stream",
     "text": [
      "Model: \"sequential\"\n",
      "_________________________________________________________________\n",
      " Layer (type)                Output Shape              Param #   \n",
      "=================================================================\n",
      " embedding (Embedding)       (None, None, 512)         61440     \n",
      "                                                                 \n",
      " bidirectional (Bidirectiona  (None, 256)              656384    \n",
      " l)                                                              \n",
      "                                                                 \n",
      " dense (Dense)               (None, 128)               32896     \n",
      "                                                                 \n",
      " dropout (Dropout)           (None, 128)               0         \n",
      "                                                                 \n",
      " dense_1 (Dense)             (None, 22)                2838      \n",
      "                                                                 \n",
      "=================================================================\n",
      "Total params: 753,558\n",
      "Trainable params: 753,558\n",
      "Non-trainable params: 0\n",
      "_________________________________________________________________\n"
     ]
    }
   ],
   "source": [
    "model = tf.keras.models.Sequential([\n",
    "    tf.keras.layers.Embedding(vocab_size, embed_dim),\n",
    "    tf.keras.layers.Bidirectional(tf.keras.layers.LSTM(units, dropout=0.2)),\n",
    "    tf.keras.layers.Dense(units, activation='relu'),\n",
    "    tf.keras.layers.Dropout(0.5),\n",
    "    tf.keras.layers.Dense(target_length, activation='softmax')\n",
    "])\n",
    "\n",
    "optimizer = tf.keras.optimizers.Adam(learning_rate=1e-2)\n",
    "model.compile(optimizer=optimizer, loss='categorical_crossentropy', metrics=['accuracy'])\n",
    "model.summary()"
   ]
  },
  {
   "cell_type": "markdown",
   "id": "fb00422f",
   "metadata": {},
   "source": [
    "Train the model"
   ]
  },
  {
   "cell_type": "code",
   "execution_count": 8,
   "id": "56c8b333",
   "metadata": {},
   "outputs": [
    {
     "name": "stdout",
     "output_type": "stream",
     "text": [
      "Epoch 1/50\n",
      "5/5 [==============================] - 3s 36ms/step - loss: 3.0831 - accuracy: 0.0979\n",
      "Epoch 2/50\n",
      "5/5 [==============================] - 0s 32ms/step - loss: 2.5790 - accuracy: 0.3007\n",
      "Epoch 3/50\n",
      "5/5 [==============================] - 0s 39ms/step - loss: 1.8148 - accuracy: 0.4545\n",
      "Epoch 4/50\n",
      "5/5 [==============================] - 0s 31ms/step - loss: 1.2234 - accuracy: 0.6014\n",
      "Epoch 5/50\n",
      "5/5 [==============================] - 0s 38ms/step - loss: 0.8295 - accuracy: 0.7203\n",
      "Epoch 6/50\n",
      "5/5 [==============================] - 0s 36ms/step - loss: 0.4271 - accuracy: 0.8601\n",
      "Epoch 7/50\n",
      "5/5 [==============================] - 0s 32ms/step - loss: 0.3671 - accuracy: 0.8671\n",
      "Epoch 8/50\n",
      "5/5 [==============================] - 0s 42ms/step - loss: 0.1626 - accuracy: 0.9510\n",
      "Epoch 9/50\n",
      "5/5 [==============================] - 0s 32ms/step - loss: 0.1657 - accuracy: 0.9301\n",
      "Epoch 10/50\n",
      "5/5 [==============================] - 0s 33ms/step - loss: 0.0958 - accuracy: 0.9720\n",
      "Epoch 11/50\n",
      "5/5 [==============================] - 0s 40ms/step - loss: 0.0338 - accuracy: 0.9930\n",
      "Epoch 12/50\n",
      "5/5 [==============================] - 0s 32ms/step - loss: 0.0223 - accuracy: 1.0000\n",
      "Epoch 13/50\n",
      "5/5 [==============================] - 0s 39ms/step - loss: 0.0133 - accuracy: 1.0000\n",
      "Epoch 14/50\n",
      "5/5 [==============================] - 0s 33ms/step - loss: 0.0195 - accuracy: 0.9930\n",
      "Epoch 15/50\n",
      "5/5 [==============================] - 0s 32ms/step - loss: 0.0112 - accuracy: 1.0000\n",
      "Epoch 16/50\n",
      "5/5 [==============================] - 0s 39ms/step - loss: 0.0279 - accuracy: 0.9930\n",
      "Epoch 17/50\n",
      "5/5 [==============================] - 0s 36ms/step - loss: 0.0156 - accuracy: 1.0000\n",
      "Epoch 18/50\n",
      "5/5 [==============================] - 0s 30ms/step - loss: 0.0119 - accuracy: 0.9930\n",
      "Epoch 19/50\n",
      "5/5 [==============================] - 0s 32ms/step - loss: 0.0089 - accuracy: 1.0000\n",
      "Epoch 20/50\n",
      "5/5 [==============================] - 0s 31ms/step - loss: 0.0066 - accuracy: 1.0000\n",
      "Epoch 21/50\n",
      "5/5 [==============================] - 0s 39ms/step - loss: 0.0024 - accuracy: 1.0000\n",
      "Epoch 22/50\n",
      "5/5 [==============================] - 0s 34ms/step - loss: 0.0064 - accuracy: 1.0000\n",
      "Epoch 23/50\n",
      "5/5 [==============================] - 0s 31ms/step - loss: 0.0024 - accuracy: 1.0000\n",
      "Epoch 24/50\n",
      "5/5 [==============================] - 0s 36ms/step - loss: 0.0021 - accuracy: 1.0000\n",
      "Epoch 25/50\n",
      "5/5 [==============================] - 0s 36ms/step - loss: 0.0018 - accuracy: 1.0000\n",
      "Epoch 26/50\n",
      "5/5 [==============================] - 0s 32ms/step - loss: 0.0016 - accuracy: 1.0000\n",
      "Epoch 27/50\n",
      "5/5 [==============================] - 0s 32ms/step - loss: 6.9520e-04 - accuracy: 1.0000\n",
      "Epoch 28/50\n",
      "5/5 [==============================] - 0s 33ms/step - loss: 0.0070 - accuracy: 0.9930\n",
      "Epoch 29/50\n",
      "5/5 [==============================] - 0s 31ms/step - loss: 0.0022 - accuracy: 1.0000\n",
      "Epoch 30/50\n",
      "5/5 [==============================] - 0s 31ms/step - loss: 0.0101 - accuracy: 1.0000\n",
      "Epoch 31/50\n",
      "5/5 [==============================] - 0s 32ms/step - loss: 0.0042 - accuracy: 1.0000\n"
     ]
    },
    {
     "data": {
      "text/plain": [
       "<keras.callbacks.History at 0x1d9ac26d730>"
      ]
     },
     "execution_count": 8,
     "metadata": {},
     "output_type": "execute_result"
    }
   ],
   "source": [
    "early_stop = tf.keras.callbacks.EarlyStopping(monitor='loss', patience=4)\n",
    "\n",
    "model.fit(input_tensor, target_tensor, epochs=epochs, callbacks=[early_stop])"
   ]
  },
  {
   "cell_type": "markdown",
   "id": "67fecac9",
   "metadata": {},
   "source": [
    "Finally, save the model and relevant data"
   ]
  },
  {
   "cell_type": "code",
   "execution_count": 9,
   "id": "36d5ee38",
   "metadata": {},
   "outputs": [],
   "source": [
    "model.save('chatbot_model.h5', save_format='h5')\n",
    "\n",
    "to_save = [tokenizer, intent_doc, trg_index_word]\n",
    "file_name = ['tokenizer', 'intent_doc', 'trg_index_word']\n",
    "\n",
    "for i in range(len(to_save)):\n",
    "    with open(f'pickles/{file_name[i]}.pkl', 'wb') as file:\n",
    "        pickle.dump(to_save[i], file)"
   ]
  }
 ],
 "metadata": {
  "kernelspec": {
   "display_name": "Python 3",
   "language": "python",
   "name": "python3"
  },
  "language_info": {
   "codemirror_mode": {
    "name": "ipython",
    "version": 3
   },
   "file_extension": ".py",
   "mimetype": "text/x-python",
   "name": "python",
   "nbconvert_exporter": "python",
   "pygments_lexer": "ipython3",
   "version": "3.8.8"
  }
 },
 "nbformat": 4,
 "nbformat_minor": 5
}
